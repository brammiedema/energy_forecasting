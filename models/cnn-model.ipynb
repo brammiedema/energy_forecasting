{
 "cells": [
  {
   "cell_type": "markdown",
   "metadata": {},
   "source": [
    "## DNN Models for Energy Forecasting\n",
    "\n",
    "The code to use for DNN model of the energy forecast project"
   ]
  },
  {
   "cell_type": "code",
   "execution_count": 1,
   "metadata": {},
   "outputs": [
    {
     "name": "stderr",
     "output_type": "stream",
     "text": [
      "/usr/local/envs/py2env/lib/python2.7/site-packages/h5py/__init__.py:36: FutureWarning: Conversion of the second argument of issubdtype from `float` to `np.floating` is deprecated. In future, it will be treated as `np.float64 == np.dtype(float).type`.\n",
      "  from ._conv import register_converters as _register_converters\n"
     ]
    },
    {
     "name": "stdout",
     "output_type": "stream",
     "text": [
      "1.8.0\n"
     ]
    }
   ],
   "source": [
    "import tensorflow as tf\n",
    "print(tf.__version__)"
   ]
  },
  {
   "cell_type": "code",
   "execution_count": 11,
   "metadata": {},
   "outputs": [
    {
     "data": {
      "text/plain": [
       "<tf.Tensor 'concat:0' shape=(100, 50, 2) dtype=float32>"
      ]
     },
     "execution_count": 11,
     "metadata": {},
     "output_type": "execute_result"
    }
   ],
   "source": [
    "price = tf.placeholder(tf.float32, shape=(100,50,1))\n",
    "weather = tf.placeholder(tf.float32, shape=(100,50,1))\n",
    "\n",
    "tf.concat([price, weather], axis=-1)"
   ]
  },
  {
   "cell_type": "code",
   "execution_count": 12,
   "metadata": {},
   "outputs": [
    {
     "data": {
      "text/plain": [
       "<tf.Tensor 'Placeholder_5:0' shape=(100, 50) dtype=float32>"
      ]
     },
     "execution_count": 12,
     "metadata": {},
     "output_type": "execute_result"
    }
   ],
   "source": [
    "price = tf.placeholder(tf.float32, shape=(100, 50))\n",
    "# weather = tf.placeholder(tf.float32, shape=(100,50,1))\n",
    "\n",
    "# tf.concat([price, weather], axis=-1)\n",
    "price"
   ]
  },
  {
   "cell_type": "code",
   "execution_count": 2,
   "metadata": {},
   "outputs": [],
   "source": [
    "# change these to try this notebook out\n",
    "BUCKET = 'atos-asl'\n",
    "PROJECT = 'qwiklabs-gcp-aebfb78fe0f1b1d1'\n",
    "REGION = 'us-central1'"
   ]
  },
  {
   "cell_type": "code",
   "execution_count": 3,
   "metadata": {},
   "outputs": [],
   "source": [
    "import os\n",
    "os.environ['BUCKET'] = BUCKET\n",
    "os.environ['PROJECT'] = PROJECT\n",
    "os.environ['REGION'] = REGION\n",
    "os.environ['TFVERSION'] = '1.8'  "
   ]
  },
  {
   "cell_type": "code",
   "execution_count": 4,
   "metadata": {},
   "outputs": [
    {
     "name": "stderr",
     "output_type": "stream",
     "text": [
      "Updated property [core/project].\n",
      "Updated property [compute/region].\n"
     ]
    }
   ],
   "source": [
    "%bash\n",
    "gcloud config set project $PROJECT\n",
    "gcloud config set compute/region $REGION"
   ]
  },
  {
   "cell_type": "code",
   "execution_count": null,
   "metadata": {},
   "outputs": [],
   "source": [
    "%%bash\n",
    "OUTDIR=/tmp/trained_data/cnn/\n",
    "JOBNAME=energy_forecasting_cnn_$(date -u +%y%m%d_%H%M%S)\n",
    "echo $OUTDIR $REGION $JOBNAME\n",
    "rm -rf $OUTDIR\n",
    "gcloud ml-engine local train \\\n",
    "  --module-name=atos-asl.cnn_task \\\n",
    "  --package-path=$(pwd)/atos-asl \\\n",
    "  --job-dir=$OUTDIR \\\n",
    "  -- \\\n",
    "  --eval_set=gs://${BUCKET}/datasets/timeserie_price_weekly_eval.csv \\\n",
    "  --train_set=gs://${BUCKET}/datasets/timeserie_price_weekly_train.csv \\\n",
    "  --output_dir=${OUTDIR}"
   ]
  },
  {
   "cell_type": "code",
   "execution_count": 31,
   "metadata": {},
   "outputs": [
    {
     "name": "stdout",
     "output_type": "stream",
     "text": [
      "gs://atos-asl/trained_data/cnn/daily/ us-central1 energy_forecasting_cnn_180917_232618\n",
      "jobId: energy_forecasting_cnn_180917_232618\n",
      "state: QUEUED\n"
     ]
    },
    {
     "name": "stderr",
     "output_type": "stream",
     "text": [
      "Removing gs://atos-asl/trained_data/cnn/daily/#1537226278912393...\n",
      "Removing gs://atos-asl/trained_data/cnn/daily/events.out.tfevents.1537226279.cmle-training-6479928648897215838#1537226279742564...\n",
      "Removing gs://atos-asl/trained_data/cnn/daily/graph.pbtxt#1537226281989887...\n",
      "/ [1/3 objects]  33% Done                                                       \r",
      "/ [2/3 objects]  66% Done                                                       \r",
      "/ [3/3 objects] 100% Done                                                       \r\n",
      "Operation completed over 3 objects.                                              \n",
      "Job [energy_forecasting_cnn_180917_232618] submitted successfully.\n",
      "Your job is still active. You may view the status of your job with the command\n",
      "\n",
      "  $ gcloud ml-engine jobs describe energy_forecasting_cnn_180917_232618\n",
      "\n",
      "or continue streaming the logs with the command\n",
      "\n",
      "  $ gcloud ml-engine jobs stream-logs energy_forecasting_cnn_180917_232618\n"
     ]
    }
   ],
   "source": [
    "%%bash\n",
    "OUTDIR=gs://${BUCKET}/trained_data/cnn/daily/\n",
    "JOBNAME=energy_forecasting_cnn_$(date -u +%y%m%d_%H%M%S)\n",
    "echo $OUTDIR $REGION $JOBNAME\n",
    "gsutil -m rm -rf $OUTDIR\n",
    "gcloud ml-engine jobs submit training $JOBNAME \\\n",
    "  --region=$REGION \\\n",
    "  --runtime-version=$TFVERSION \\\n",
    "  --scale-tier=BASIC_GPU \\\n",
    "  --staging-bucket=gs://$BUCKET \\\n",
    "  --module-name=atos-asl.cnn_task \\\n",
    "  --package-path=$(pwd)/atos-asl \\\n",
    "  --job-dir=$OUTDIR \\\n",
    "  -- \\\n",
    "  --eval_set=gs://${BUCKET}/datasets/timeserie_price_daily_eval_fix.csv \\\n",
    "  --train_set=gs://${BUCKET}/datasets/timeserie_price_daily_train_fix.csv \\\n",
    "  --output_dir=${OUTDIR} \\\n",
    "  --learning_rate 0.1 \\\n",
    "  --training_steps 10000"
   ]
  },
  {
   "cell_type": "code",
   "execution_count": 35,
   "metadata": {},
   "outputs": [
    {
     "data": {
      "text/html": [
       "<p>TensorBoard was started successfully with pid 1007. Click <a href=\"/_proxy/48341/\" target=\"_blank\">here</a> to access it.</p>"
      ]
     },
     "metadata": {},
     "output_type": "display_data"
    },
    {
     "data": {
      "text/plain": [
       "1007"
      ]
     },
     "execution_count": 35,
     "metadata": {},
     "output_type": "execute_result"
    }
   ],
   "source": [
    "from google.datalab.ml import TensorBoard\n",
    "TensorBoard().start('gs://{}/trained_data/'.format(BUCKET))"
   ]
  },
  {
   "cell_type": "code",
   "execution_count": 34,
   "metadata": {},
   "outputs": [
    {
     "name": "stdout",
     "output_type": "stream",
     "text": [
      "Stopped TensorBoard with pid 32128\n"
     ]
    }
   ],
   "source": [
    "for pid in TensorBoard.list()['pid']:\n",
    "  TensorBoard().stop(pid)\n",
    "  print('Stopped TensorBoard with pid {}'.format(pid))"
   ]
  },
  {
   "cell_type": "code",
   "execution_count": null,
   "metadata": {},
   "outputs": [],
   "source": []
  }
 ],
 "metadata": {
  "kernelspec": {
   "display_name": "Python 2",
   "language": "python",
   "name": "python2"
  },
  "language_info": {
   "codemirror_mode": {
    "name": "ipython",
    "version": 2
   },
   "file_extension": ".py",
   "mimetype": "text/x-python",
   "name": "python",
   "nbconvert_exporter": "python",
   "pygments_lexer": "ipython2",
   "version": "2.7.15"
  }
 },
 "nbformat": 4,
 "nbformat_minor": 2
}
