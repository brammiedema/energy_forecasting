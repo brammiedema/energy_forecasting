{
 "cells": [
  {
   "cell_type": "markdown",
   "metadata": {},
   "source": [
    "## Data Discovery\n",
    "\n",
    "Data discovery of the energy forecast."
   ]
  },
  {
   "cell_type": "code",
   "execution_count": 8,
   "metadata": {},
   "outputs": [],
   "source": [
    "from google.datalab import bigquery as bq\n",
    "import pandas as pd"
   ]
  },
  {
   "cell_type": "code",
   "execution_count": 7,
   "metadata": {},
   "outputs": [
    {
     "data": {
      "text/html": [
       "<div>\n",
       "<style scoped>\n",
       "    .dataframe tbody tr th:only-of-type {\n",
       "        vertical-align: middle;\n",
       "    }\n",
       "\n",
       "    .dataframe tbody tr th {\n",
       "        vertical-align: top;\n",
       "    }\n",
       "\n",
       "    .dataframe thead th {\n",
       "        text-align: right;\n",
       "    }\n",
       "</style>\n",
       "<table border=\"1\" class=\"dataframe\">\n",
       "  <thead>\n",
       "    <tr style=\"text-align: right;\">\n",
       "      <th></th>\n",
       "      <th>point</th>\n",
       "      <th>wind_speed_100m</th>\n",
       "      <th>wind_direction_100m</th>\n",
       "      <th>temperature</th>\n",
       "      <th>air_density</th>\n",
       "      <th>pressure</th>\n",
       "      <th>precipitation</th>\n",
       "      <th>wind_gust</th>\n",
       "      <th>radiation</th>\n",
       "      <th>wind_speed</th>\n",
       "      <th>wind_direction</th>\n",
       "    </tr>\n",
       "  </thead>\n",
       "  <tbody>\n",
       "    <tr>\n",
       "      <th>count</th>\n",
       "      <td>272592.000000</td>\n",
       "      <td>272592.000000</td>\n",
       "      <td>272592.000000</td>\n",
       "      <td>272592.000000</td>\n",
       "      <td>272592.000000</td>\n",
       "      <td>272592.000000</td>\n",
       "      <td>272592.000000</td>\n",
       "      <td>272592.000000</td>\n",
       "      <td>272592.000000</td>\n",
       "      <td>272592.000000</td>\n",
       "      <td>272592.000000</td>\n",
       "    </tr>\n",
       "    <tr>\n",
       "      <th>mean</th>\n",
       "      <td>9.500000</td>\n",
       "      <td>4.637073</td>\n",
       "      <td>194.652307</td>\n",
       "      <td>14.483588</td>\n",
       "      <td>1.135904</td>\n",
       "      <td>936.946597</td>\n",
       "      <td>0.124406</td>\n",
       "      <td>4.893374</td>\n",
       "      <td>216.905158</td>\n",
       "      <td>3.146508</td>\n",
       "      <td>193.737157</td>\n",
       "    </tr>\n",
       "    <tr>\n",
       "      <th>std</th>\n",
       "      <td>5.188137</td>\n",
       "      <td>2.916167</td>\n",
       "      <td>102.063648</td>\n",
       "      <td>10.434206</td>\n",
       "      <td>0.057938</td>\n",
       "      <td>47.494264</td>\n",
       "      <td>0.278393</td>\n",
       "      <td>3.639607</td>\n",
       "      <td>276.894263</td>\n",
       "      <td>1.980469</td>\n",
       "      <td>101.226174</td>\n",
       "    </tr>\n",
       "    <tr>\n",
       "      <th>min</th>\n",
       "      <td>1.000000</td>\n",
       "      <td>0.000000</td>\n",
       "      <td>0.000000</td>\n",
       "      <td>-24.700000</td>\n",
       "      <td>0.960000</td>\n",
       "      <td>825.300000</td>\n",
       "      <td>0.000000</td>\n",
       "      <td>0.000000</td>\n",
       "      <td>0.000000</td>\n",
       "      <td>0.000000</td>\n",
       "      <td>0.100000</td>\n",
       "    </tr>\n",
       "    <tr>\n",
       "      <th>25%</th>\n",
       "      <td>5.000000</td>\n",
       "      <td>2.500000</td>\n",
       "      <td>109.700000</td>\n",
       "      <td>6.900000</td>\n",
       "      <td>1.090000</td>\n",
       "      <td>891.000000</td>\n",
       "      <td>0.000000</td>\n",
       "      <td>2.300000</td>\n",
       "      <td>0.000000</td>\n",
       "      <td>1.700000</td>\n",
       "      <td>111.575000</td>\n",
       "    </tr>\n",
       "    <tr>\n",
       "      <th>50%</th>\n",
       "      <td>9.500000</td>\n",
       "      <td>4.000000</td>\n",
       "      <td>209.800000</td>\n",
       "      <td>13.400000</td>\n",
       "      <td>1.130000</td>\n",
       "      <td>934.500000</td>\n",
       "      <td>0.000000</td>\n",
       "      <td>3.700000</td>\n",
       "      <td>65.400000</td>\n",
       "      <td>2.700000</td>\n",
       "      <td>207.100000</td>\n",
       "    </tr>\n",
       "    <tr>\n",
       "      <th>75%</th>\n",
       "      <td>14.000000</td>\n",
       "      <td>6.100000</td>\n",
       "      <td>277.800000</td>\n",
       "      <td>20.600000</td>\n",
       "      <td>1.180000</td>\n",
       "      <td>982.700000</td>\n",
       "      <td>0.100000</td>\n",
       "      <td>6.400000</td>\n",
       "      <td>398.600000</td>\n",
       "      <td>4.100000</td>\n",
       "      <td>275.600000</td>\n",
       "    </tr>\n",
       "    <tr>\n",
       "      <th>max</th>\n",
       "      <td>18.000000</td>\n",
       "      <td>29.100000</td>\n",
       "      <td>360.000000</td>\n",
       "      <td>57.600000</td>\n",
       "      <td>1.300000</td>\n",
       "      <td>1036.700000</td>\n",
       "      <td>2.100000</td>\n",
       "      <td>30.400000</td>\n",
       "      <td>1019.900000</td>\n",
       "      <td>21.500000</td>\n",
       "      <td>360.000000</td>\n",
       "    </tr>\n",
       "  </tbody>\n",
       "</table>\n",
       "</div>"
      ],
      "text/plain": [
       "               point  wind_speed_100m  wind_direction_100m    temperature  \\\n",
       "count  272592.000000    272592.000000        272592.000000  272592.000000   \n",
       "mean        9.500000         4.637073           194.652307      14.483588   \n",
       "std         5.188137         2.916167           102.063648      10.434206   \n",
       "min         1.000000         0.000000             0.000000     -24.700000   \n",
       "25%         5.000000         2.500000           109.700000       6.900000   \n",
       "50%         9.500000         4.000000           209.800000      13.400000   \n",
       "75%        14.000000         6.100000           277.800000      20.600000   \n",
       "max        18.000000        29.100000           360.000000      57.600000   \n",
       "\n",
       "         air_density       pressure  precipitation      wind_gust  \\\n",
       "count  272592.000000  272592.000000  272592.000000  272592.000000   \n",
       "mean        1.135904     936.946597       0.124406       4.893374   \n",
       "std         0.057938      47.494264       0.278393       3.639607   \n",
       "min         0.960000     825.300000       0.000000       0.000000   \n",
       "25%         1.090000     891.000000       0.000000       2.300000   \n",
       "50%         1.130000     934.500000       0.000000       3.700000   \n",
       "75%         1.180000     982.700000       0.100000       6.400000   \n",
       "max         1.300000    1036.700000       2.100000      30.400000   \n",
       "\n",
       "           radiation     wind_speed  wind_direction  \n",
       "count  272592.000000  272592.000000   272592.000000  \n",
       "mean      216.905158       3.146508      193.737157  \n",
       "std       276.894263       1.980469      101.226174  \n",
       "min         0.000000       0.000000        0.100000  \n",
       "25%         0.000000       1.700000      111.575000  \n",
       "50%        65.400000       2.700000      207.100000  \n",
       "75%       398.600000       4.100000      275.600000  \n",
       "max      1019.900000      21.500000      360.000000  "
      ]
     },
     "execution_count": 7,
     "metadata": {},
     "output_type": "execute_result"
    }
   ],
   "source": [
    "query = \"\"\"\n",
    "select \n",
    "  sl.point,\n",
    "  sl.latitude,\n",
    "  sl.longitude,\n",
    "  f.prediction_date,\n",
    "  f.wind_speed_100m,\n",
    "  f.wind_direction_100m,\n",
    "  f.temperature,\n",
    "  f.air_density,\n",
    "  f.pressure,\n",
    "  f.precipitation,\n",
    "  f.wind_gust,\n",
    "  f.radiation,\n",
    "  f.wind_speed,\n",
    "  f.wind_direction\n",
    "from\n",
    "  `energy.historical_forecasting` as f\n",
    "JOIN\n",
    "  `energy.station_location` as sl\n",
    "ON\n",
    "  f.point = sl.point\n",
    "\"\"\"\n",
    "\n",
    "df = bq.Query(query).execute().result().to_dataframe()\n",
    "df.describe()"
   ]
  },
  {
   "cell_type": "code",
   "execution_count": 15,
   "metadata": {},
   "outputs": [
    {
     "data": {
      "text/plain": [
       "<matplotlib.axes._subplots.AxesSubplot at 0x7f0ed7c1f2d0>"
      ]
     },
     "execution_count": 15,
     "metadata": {},
     "output_type": "execute_result"
    },
    {
     "name": "stderr",
     "output_type": "stream",
     "text": [
      "/usr/local/envs/py2env/lib/python2.7/site-packages/matplotlib/font_manager.py:1320: UserWarning: findfont: Font family [u'sans-serif'] not found. Falling back to DejaVu Sans\n",
      "  (prop.get_family(), self.defaultFamily[fontext]))\n"
     ]
    },
    {
     "data": {
      "image/png": "[encoded data removed]",
      "text/plain": [
       "<matplotlib.figure.Figure at 0x7f0ee2b08a90>"
      ]
     },
     "metadata": {},
     "output_type": "display_data"
    }
   ],
   "source": [
    "df.plot(x='prediction_date', y='temperature')"
   ]
  },
  {
   "cell_type": "code",
   "execution_count": 13,
   "metadata": {},
   "outputs": [
    {
     "data": {
      "text/plain": [
       "point                           int64\n",
       "latitude                       object\n",
       "longitude                      object\n",
       "prediction_date        datetime64[ns]\n",
       "wind_speed_100m               float64\n",
       "wind_direction_100m           float64\n",
       "temperature                   float64\n",
       "air_density                   float64\n",
       "pressure                      float64\n",
       "precipitation                 float64\n",
       "wind_gust                     float64\n",
       "radiation                     float64\n",
       "wind_speed                    float64\n",
       "wind_direction                float64\n",
       "dtype: object"
      ]
     },
     "execution_count": 13,
     "metadata": {},
     "output_type": "execute_result"
    }
   ],
   "source": [
    "df.dtypes"
   ]
  },
  {
   "cell_type": "code",
   "execution_count": null,
   "metadata": {},
   "outputs": [],
   "source": []
  }
 ],
 "metadata": {
  "kernelspec": {
   "display_name": "Python 2",
   "language": "python",
   "name": "python2"
  },
  "language_info": {
   "codemirror_mode": {
    "name": "ipython",
    "version": 2
   },
   "file_extension": ".py",
   "mimetype": "text/x-python",
   "name": "python",
   "nbconvert_exporter": "python",
   "pygments_lexer": "ipython2",
   "version": "2.7.15"
  }
 },
 "nbformat": 4,
 "nbformat_minor": 2
}
